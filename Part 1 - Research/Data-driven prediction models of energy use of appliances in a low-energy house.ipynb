{
 "cells": [
  {
   "cell_type": "markdown",
   "metadata": {},
   "source": [
    "# Data-driven prediction models of energy use of appliances in a low-energy house"
   ]
  },
  {
   "cell_type": "markdown",
   "metadata": {},
   "source": [
    "Research Paper: https://www.sciencedirect.com/science/article/pii/S0378778816308970?via%3Dihub "
   ]
  },
  {
   "cell_type": "markdown",
   "metadata": {},
   "source": [
    "The research paper aims at understanding appliances as they represent a significant part of the electrical energy demand with measurements of temperature and humidity sensors in multiple areas in the house. It states that televisions and consumer electronics operating in standby were attributed to a 10.2% increase in the electricity consumption. Best model is GBM (Gradient Boosting Model) which explain 97% of the variance in training set and 57% in the testing set. Data from kitchen, laundry and living room has the highest importance for the energy prediction. The various appliances used during the research are Space Heating, Space Cooling, Water Heating, Refrigerator, Cooking, Clothes dryers, Freezers, Lighting, Clothes Washers, Dishwashers, Color TV and boxes, personal computer and others. \n",
    "\n",
    "The energy efficiency and usage depends on the type and number of electrical appliances and the use of the appliances by the occupants. Data from 454 houses and 140 commercial building in the Pacific Northwest was used in one example which uses Markov Chain Monte Carlo technique to generate synthetic data. According to the research, the refrigerators have a uniform load profile, while clothes washers, clothes dryers and dishwashers are very user-dependent and thus vary from household to household and time of day. The article ranked highest the clothes dryers for the potential of demand response mostly because of their large power demand.  \n",
    "\n",
    "The electricity load prediction the models usually have considered parameters such as the time of day, outdoor temperature, month, weekend, holidays, yesterday's consumption, rainfall index, global solar radiation, wind speed and occupancy and external weather. The regression test used heating degree days, cooling degree days, gross domestic product, and humidity (when available) and could explain the variability of the monthly demand between 91 and 95%. One-minute interval power measurement in 12 houses, including individual devices (furnace, air conditioner, range/cooker, clothes dryer, dishwasher and domestic hot water heater). Another data testing of 1628 households. weather, location (ZIP code), age of building, ownership, presence of double pane windows, energy efficient light fixtures, floor area, pet ownership, number of refrigerators and entertainment devices, number of occupants and income level were studied. The researchers concluded that the most important variables were weather, location, and floor area. Also, the number of refrigerators and entertainment appliances among the most important determinants of daily minimum consumption.  Statistics also observed that being at home during the day correlated with lower appliance efficiency which means increased use of appliances due to occupants in the house. \n",
    "\n",
    "In UK, appliance ownership and their use was studied for 183 dwellings using an odds ratio analysis. The study suggested that households owning more than thirty appliances have an increased probability of having a high electrical energy demand due to which these households own more than four or more IT devices, more than five entertainment items, an electric oven, hob or range, two or more preservation and cooling appliances or three or more laundry machines.\n",
    "\n",
    "The data was collected from energy counters every 10min which includes the heat recovery ventilation unit, domestic hot water heat pump, the energy consumption of appliances, lighting, and electric baseboard heaters. \n",
    "\n",
    "The data set obtained was split in training and test validation using CARET’s methodology. The highest correlation was found between T1 and T3 which are the two different observations and the lowest correlation is between lights and T2 and lights and RH_3. These analyses were depicted in pairs plot of bivariate scatter plot and histogram. Also, the same appliances energy use was demonstrated in heat map visual in weekly basis. The finding from heat map for the 4 consecutive week is that during the evening the appliances energy usage is higher.\n",
    "\n",
    "The data set consists of multiple features so feature filtering and selection is performed using the Boruta package. This package finds the importance of attributes with its shadow attributes obtained from shuffling the original dataset. This finds one such appliance NSM with highest importance. This is obtained by finding the optimal variable by using RFE to minimize the RMSE. Various techniques were used like the regression, SVM with tuning parameters.\n",
    "\n",
    "The appliances energy consumption during the exploratory data analysis, training and model selection tells us the various relationships. For example if the humidity in the room increased when occupants arrived in the room and would drop if it was empty. There is a negative correlation between rooms and appliances there is almost negative correlation. Various filtering methods was used for feature extraction. The best models were obtained by RF and GBM by evaluating it RMSE and R square\n",
    "This research paper analyses various relationships between parameters using the pairplots. Using different model to get better RMSE and Rsquare and data from weather station helps to improve the accuracy. The future scope could involve gettting solar radiation and precipitation, CO2, noise into consideration for better prediction\n"
   ]
  },
  {
   "cell_type": "code",
   "execution_count": null,
   "metadata": {
    "collapsed": true
   },
   "outputs": [],
   "source": []
  }
 ],
 "metadata": {
  "kernelspec": {
   "display_name": "Python 3",
   "language": "python",
   "name": "python3"
  },
  "language_info": {
   "codemirror_mode": {
    "name": "ipython",
    "version": 3
   },
   "file_extension": ".py",
   "mimetype": "text/x-python",
   "name": "python",
   "nbconvert_exporter": "python",
   "pygments_lexer": "ipython3",
   "version": "3.6.3"
  }
 },
 "nbformat": 4,
 "nbformat_minor": 2
}
